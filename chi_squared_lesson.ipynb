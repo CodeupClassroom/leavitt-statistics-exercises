{
 "cells": [
  {
   "cell_type": "markdown",
   "id": "d485ecd3",
   "metadata": {},
   "source": [
    "# Chi$^2$ ($\\chi^2$) Test for Independence\n",
    "\n",
    "aka Pearson's Chi$^2$ test. Pronounced as 'Ki' as in kite.\n",
    "\n",
    "\n",
    "https://docs.google.com/presentation/d/13V7cMcgbM6bIQL2fbMtONre15iiNKpxnX7ECiWTxrVI/edit?usp=sharing"
   ]
  },
  {
   "cell_type": "markdown",
   "id": "a4cdb874",
   "metadata": {},
   "source": [
    "Lets us test the hypothesis that one group is independent of another\n",
    "- $H_0$ is always that there is no association between the groups (they are independent)\n",
    "- $H_a$ is that there is a association (they are not independent) between the groups\n",
    "\n",
    "\n",
    "The null hypothesis assumes that the observed frequencies for a categorical variable match the expected frequencies for the categorical variable"
   ]
  },
  {
   "cell_type": "markdown",
   "id": "8dd2e081",
   "metadata": {},
   "source": [
    "## The Quick Way To Run a Chi$^2$ Test"
   ]
  },
  {
   "cell_type": "markdown",
   "id": "48ad0a45",
   "metadata": {},
   "source": [
    "1. form hypothesis\n",
    "2. make contigency table\n",
    "3. use stats.chi2_contingency"
   ]
  },
  {
   "cell_type": "markdown",
   "id": "372767cc",
   "metadata": {},
   "source": [
    "## Example 1 - Tips Data"
   ]
  },
  {
   "cell_type": "code",
   "execution_count": null,
   "id": "4bb5d3de",
   "metadata": {},
   "outputs": [],
   "source": [
    "import pandas as pd\n",
    "import numpy as np\n",
    "\n",
    "from pydataset import data\n",
    "from scipy import stats"
   ]
  },
  {
   "cell_type": "code",
   "execution_count": null,
   "id": "2322650c",
   "metadata": {},
   "outputs": [],
   "source": [
    "#load tips dataset\n"
   ]
  },
  {
   "cell_type": "code",
   "execution_count": null,
   "id": "c925eeaa",
   "metadata": {},
   "outputs": [],
   "source": [
    "#check out the dataset\n"
   ]
  },
  {
   "cell_type": "markdown",
   "id": "b00c930b",
   "metadata": {},
   "source": [
    "## Is smoking independent of time of day?"
   ]
  },
  {
   "cell_type": "markdown",
   "id": "7f7088a8",
   "metadata": {},
   "source": [
    "### 1. Form hypothesis"
   ]
  },
  {
   "cell_type": "markdown",
   "id": "7b74bcf3",
   "metadata": {},
   "source": [
    "- $H_o$: There is no association between the smoker and time of the day (independence)\n",
    "- $H_a$: There is that there is a association between smoker and time of day"
   ]
  },
  {
   "cell_type": "markdown",
   "id": "7b529d5a",
   "metadata": {},
   "source": [
    "### 2. Make contigency table"
   ]
  },
  {
   "cell_type": "code",
   "execution_count": null,
   "id": "36e9c590",
   "metadata": {},
   "outputs": [],
   "source": [
    "#set our alpha\n"
   ]
  },
  {
   "cell_type": "code",
   "execution_count": null,
   "id": "2c72c32a",
   "metadata": {},
   "outputs": [],
   "source": [
    "#look at smoker data\n"
   ]
  },
  {
   "cell_type": "code",
   "execution_count": null,
   "id": "f2d582a8",
   "metadata": {},
   "outputs": [],
   "source": [
    "#look at time data\n"
   ]
  },
  {
   "cell_type": "code",
   "execution_count": null,
   "id": "3da796d3",
   "metadata": {},
   "outputs": [],
   "source": [
    "#make 'contingency' table using pandas crosstab\n"
   ]
  },
  {
   "cell_type": "markdown",
   "id": "8a2a042f",
   "metadata": {},
   "source": [
    "### 3. Use stats.chi2_contingency"
   ]
  },
  {
   "cell_type": "code",
   "execution_count": null,
   "id": "45d82512",
   "metadata": {},
   "outputs": [],
   "source": [
    "#use stats chi2_contingency\n"
   ]
  },
  {
   "cell_type": "code",
   "execution_count": null,
   "id": "2545f98f",
   "metadata": {},
   "outputs": [],
   "source": [
    "#chi2_contingency prints out 4 values - chi2, p-value, degrees of freedom, expected values\n",
    "chi2, p, degf, expected"
   ]
  },
  {
   "cell_type": "code",
   "execution_count": null,
   "id": "fdec0394",
   "metadata": {},
   "outputs": [],
   "source": [
    "#output values\n",
    "print('Observed')\n",
    "print(observed.values)\n",
    "print('\\nExpected')\n",
    "print(expected.astype(int))\n",
    "print('\\n----')\n",
    "print(f'chi^2 = {chi2:.4f}')\n",
    "print(f'p     = {p:.4f}')"
   ]
  },
  {
   "cell_type": "code",
   "execution_count": null,
   "id": "fef493e5",
   "metadata": {},
   "outputs": [],
   "source": [
    "if p < alpha:\n",
    "    print('We reject the null')\n",
    "else:\n",
    "    print(\"we fail to reject the null\")"
   ]
  },
  {
   "cell_type": "markdown",
   "id": "89e7ef83",
   "metadata": {},
   "source": [
    "> a low chi^2 value typically leads to a high p-value"
   ]
  },
  {
   "cell_type": "markdown",
   "id": "e2038dbf",
   "metadata": {},
   "source": [
    "## Example 2 - Attrition Data"
   ]
  },
  {
   "cell_type": "code",
   "execution_count": null,
   "id": "73b6febd",
   "metadata": {},
   "outputs": [],
   "source": [
    "#get data\n",
    "df = pd.read_csv(\"https://gist.githubusercontent.com/ryanorsinger/6ba2dd985c9aa92f5598fc0f7c359f6a/raw/b20a508cee46e6ac69eb1e228b167d6f42d665d8/attrition.csv\")"
   ]
  },
  {
   "cell_type": "code",
   "execution_count": null,
   "id": "fbc7d6c7",
   "metadata": {},
   "outputs": [],
   "source": [
    "#always look at your data!!\n"
   ]
  },
  {
   "cell_type": "markdown",
   "id": "47a14991",
   "metadata": {},
   "source": [
    "### What could be categorical data???"
   ]
  },
  {
   "cell_type": "markdown",
   "id": "829ce957",
   "metadata": {},
   "source": [
    "Let's guess by looking at how many different values each columm has"
   ]
  },
  {
   "cell_type": "code",
   "execution_count": null,
   "id": "316d46c3",
   "metadata": {},
   "outputs": [],
   "source": [
    "#.unique counts the number of unique values in each column\n"
   ]
  },
  {
   "cell_type": "markdown",
   "id": "4e68e98e",
   "metadata": {},
   "source": [
    "## Ex. Is Attrition independent from Business Travel amount?"
   ]
  },
  {
   "cell_type": "markdown",
   "id": "0cc12efb",
   "metadata": {},
   "source": [
    "### 1. Form hypothesis"
   ]
  },
  {
   "cell_type": "markdown",
   "id": "38816710",
   "metadata": {},
   "source": [
    "$H_0$: Attrition and Business travel have no association (They are independent)\n",
    "\n",
    "$H_a$: Attrition and Business travel are associated (they are dependent)"
   ]
  },
  {
   "cell_type": "markdown",
   "id": "fa2c56fb",
   "metadata": {},
   "source": [
    "### 2. Make contigency table"
   ]
  },
  {
   "cell_type": "markdown",
   "id": "fa4de54a",
   "metadata": {},
   "source": [
    "Let's scope out our columns and see what categories we have"
   ]
  },
  {
   "cell_type": "code",
   "execution_count": null,
   "id": "323821f7",
   "metadata": {},
   "outputs": [],
   "source": [
    "#get unique values and counts from Attrition\n"
   ]
  },
  {
   "cell_type": "code",
   "execution_count": null,
   "id": "41040961",
   "metadata": {},
   "outputs": [],
   "source": [
    "#get unique values and counts from BusineesTravel\n"
   ]
  },
  {
   "cell_type": "code",
   "execution_count": null,
   "id": "7f7a0e7f",
   "metadata": {},
   "outputs": [],
   "source": [
    "#make contigency table\n"
   ]
  },
  {
   "cell_type": "markdown",
   "id": "9d8f0595",
   "metadata": {},
   "source": [
    "### 3. Use stats.chi2_contingency"
   ]
  },
  {
   "cell_type": "code",
   "execution_count": null,
   "id": "6b192c71",
   "metadata": {},
   "outputs": [],
   "source": [
    "#calculate chi2 values\n",
    "chi2, p, degf, expected"
   ]
  },
  {
   "cell_type": "code",
   "execution_count": null,
   "id": "7c47f18c",
   "metadata": {},
   "outputs": [],
   "source": [
    "print('Observed')\n",
    "print(observed.values)\n",
    "print('\\nExpected')\n",
    "print(expected.astype(int))\n",
    "print('\\n----')\n",
    "print(f'chi^2 = {chi2:.4f}')\n",
    "print(f'p     = {p:.4f}')"
   ]
  },
  {
   "cell_type": "markdown",
   "id": "1c285480",
   "metadata": {},
   "source": [
    "> typically a high chi^2 value leads to a low p-value, depends on degrees of freedom"
   ]
  },
  {
   "cell_type": "code",
   "execution_count": null,
   "id": "3f382ee3",
   "metadata": {},
   "outputs": [],
   "source": [
    "if p < alpha:\n",
    "    print('We reject the null')\n",
    "else:\n",
    "    print(\"we fail to reject the null\")"
   ]
  },
  {
   "cell_type": "markdown",
   "id": "03881fd5",
   "metadata": {},
   "source": [
    "## Mini Exercise:\n",
    "### Is Attrition independent from Department?"
   ]
  },
  {
   "cell_type": "markdown",
   "id": "92713c1b",
   "metadata": {},
   "source": [
    "### 1. Form hypothesis"
   ]
  },
  {
   "cell_type": "markdown",
   "id": "917f6cfa",
   "metadata": {},
   "source": [
    "- $H_0$: There is no association between Attrition and Department (They are independent)\n",
    "- $H_a$: There is an association between Attrition and Department (They are not independent)"
   ]
  },
  {
   "cell_type": "markdown",
   "id": "c2cf1f50",
   "metadata": {},
   "source": [
    "### 2. Make contigency table"
   ]
  },
  {
   "cell_type": "code",
   "execution_count": null,
   "id": "94da2fd1",
   "metadata": {},
   "outputs": [],
   "source": [
    "# how many categories we have in 'Department' column? (hint: value_counts())\n"
   ]
  },
  {
   "cell_type": "code",
   "execution_count": null,
   "id": "c751a0d3",
   "metadata": {},
   "outputs": [],
   "source": [
    "# crosstab for observed values between Attrition and Depts\n"
   ]
  },
  {
   "cell_type": "markdown",
   "id": "8e68d14a",
   "metadata": {},
   "source": [
    "### 3. Use stats.chi2_contingency"
   ]
  },
  {
   "cell_type": "code",
   "execution_count": null,
   "id": "7cacaa13",
   "metadata": {},
   "outputs": [],
   "source": [
    "# use stats.chi2_contingency test \n"
   ]
  },
  {
   "cell_type": "code",
   "execution_count": null,
   "id": "79e2f819",
   "metadata": {},
   "outputs": [],
   "source": [
    "#output values\n",
    "print('Observed')\n",
    "print(observed.values)\n",
    "print('\\nExpected')\n",
    "print(expected.astype(int))\n",
    "print('\\n----')\n",
    "print(f'chi^2 = {chi2:.4f}')\n",
    "print(f'p     = {p:.4f}')"
   ]
  },
  {
   "cell_type": "code",
   "execution_count": null,
   "id": "36b69f86",
   "metadata": {},
   "outputs": [],
   "source": [
    "if p < alpha:\n",
    "    print(\"We reject the hypothesis\")\n",
    "else:\n",
    "    print(\"We fail to reject the null hypothesis\")"
   ]
  },
  {
   "cell_type": "markdown",
   "id": "aa0ade2b",
   "metadata": {},
   "source": [
    "## Correlation Extra FYI"
   ]
  },
  {
   "cell_type": "markdown",
   "id": "6a7246f3",
   "metadata": {},
   "source": [
    "> Expected values all need to be greater than 5, we normally don't run into this issue\n",
    "\n",
    "> If not greater than 5, use fisher's exact test"
   ]
  },
  {
   "cell_type": "code",
   "execution_count": null,
   "id": "51d50fcb",
   "metadata": {},
   "outputs": [],
   "source": []
  }
 ],
 "metadata": {
  "kernelspec": {
   "display_name": "Python 3 (ipykernel)",
   "language": "python",
   "name": "python3"
  },
  "language_info": {
   "codemirror_mode": {
    "name": "ipython",
    "version": 3
   },
   "file_extension": ".py",
   "mimetype": "text/x-python",
   "name": "python",
   "nbconvert_exporter": "python",
   "pygments_lexer": "ipython3",
   "version": "3.9.12"
  }
 },
 "nbformat": 4,
 "nbformat_minor": 5
}
