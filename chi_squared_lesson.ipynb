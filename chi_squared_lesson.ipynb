{
 "cells": [
  {
   "cell_type": "markdown",
   "id": "5a59dfc2",
   "metadata": {},
   "source": [
    "# Chi$^2$ ($\\chi^2$) Test for Independence\n",
    "\n",
    "aka Pearson's Chi$^2$ test. Pronounced as 'Ki' as in kite.\n",
    "\n",
    "\n",
    "https://docs.google.com/presentation/d/13V7cMcgbM6bIQL2fbMtONre15iiNKpxnX7ECiWTxrVI/edit?usp=sharing"
   ]
  },
  {
   "cell_type": "markdown",
   "id": "2b6787af",
   "metadata": {},
   "source": [
    "Lets us test the hypothesis that one group is independent of another\n",
    "- $H_0$ is always that there is no association between the groups (they are independent)\n",
    "- $H_a$ is that there is a association (they are not independent) between the groups\n",
    "\n",
    "\n",
    "The null hypothesis assumes that the observed frequencies for a categorical variable match the expected frequencies for the categorical variable"
   ]
  },
  {
   "cell_type": "markdown",
   "id": "cef893f6",
   "metadata": {},
   "source": [
    "## The Quick Way To Run a Chi$^2$ Test"
   ]
  },
  {
   "cell_type": "markdown",
   "id": "cfebb0c1",
   "metadata": {},
   "source": [
    "1. form hypothesis\n",
    "2. make contigency table\n",
    "3. use stats.chi2_contingency"
   ]
  },
  {
   "cell_type": "markdown",
   "id": "3317c3f4",
   "metadata": {},
   "source": [
    "## Example 1 - Tips Data"
   ]
  },
  {
   "cell_type": "code",
   "execution_count": 102,
   "id": "98087b5b",
   "metadata": {},
   "outputs": [],
   "source": [
    "import pandas as pd\n",
    "import numpy as np\n",
    "\n",
    "from pydataset import data\n",
    "from scipy import stats"
   ]
  },
  {
   "cell_type": "code",
   "execution_count": 146,
   "id": "6b146d24",
   "metadata": {},
   "outputs": [],
   "source": [
    "#load tips dataset\n"
   ]
  },
  {
   "cell_type": "code",
   "execution_count": 4,
   "id": "c58d56f8",
   "metadata": {},
   "outputs": [],
   "source": [
    "#check out the dataset\n"
   ]
  },
  {
   "cell_type": "markdown",
   "id": "d54e1a32",
   "metadata": {},
   "source": [
    "## Is smoking independent of time of day?"
   ]
  },
  {
   "cell_type": "markdown",
   "id": "4e728650",
   "metadata": {},
   "source": [
    "### 1. Form hypothesis"
   ]
  },
  {
   "cell_type": "markdown",
   "id": "55979e9b",
   "metadata": {},
   "source": [
    "- $H_o$: There is no association between the smoker and time of the day (independence)\n",
    "- $H_a$: There is that there is a association between smoker and time of day"
   ]
  },
  {
   "cell_type": "markdown",
   "id": "62d12f7e",
   "metadata": {},
   "source": [
    "### 2. Make contigency table"
   ]
  },
  {
   "cell_type": "code",
   "execution_count": 1,
   "id": "fa8d24f1",
   "metadata": {},
   "outputs": [],
   "source": [
    "#set our alpha\n"
   ]
  },
  {
   "cell_type": "code",
   "execution_count": 2,
   "id": "92d6c55d",
   "metadata": {},
   "outputs": [],
   "source": [
    "#look at smoker data\n"
   ]
  },
  {
   "cell_type": "code",
   "execution_count": 5,
   "id": "590d3043",
   "metadata": {},
   "outputs": [],
   "source": [
    "#look at time data\n"
   ]
  },
  {
   "cell_type": "code",
   "execution_count": 6,
   "id": "4ce370c2",
   "metadata": {},
   "outputs": [],
   "source": [
    "#make 'contingency' table using pandas crosstab\n"
   ]
  },
  {
   "cell_type": "markdown",
   "id": "30f6f683",
   "metadata": {},
   "source": [
    "### 3. Use stats.chi2_contingency"
   ]
  },
  {
   "cell_type": "code",
   "execution_count": 7,
   "id": "60c29481",
   "metadata": {},
   "outputs": [],
   "source": [
    "#use stats chi2_contingency\n"
   ]
  },
  {
   "cell_type": "code",
   "execution_count": 8,
   "id": "862d2c04",
   "metadata": {},
   "outputs": [
    {
     "ename": "NameError",
     "evalue": "name 'chi2' is not defined",
     "output_type": "error",
     "traceback": [
      "\u001b[0;31m---------------------------------------------------------------------------\u001b[0m",
      "\u001b[0;31mNameError\u001b[0m                                 Traceback (most recent call last)",
      "Input \u001b[0;32mIn [8]\u001b[0m, in \u001b[0;36m<cell line: 2>\u001b[0;34m()\u001b[0m\n\u001b[1;32m      1\u001b[0m \u001b[38;5;66;03m#chi2_contingency prints out 4 values - chi2, p-value, degrees of freedom, expected values\u001b[39;00m\n\u001b[0;32m----> 2\u001b[0m \u001b[43mchi2\u001b[49m, p, degf, expected\n",
      "\u001b[0;31mNameError\u001b[0m: name 'chi2' is not defined"
     ]
    }
   ],
   "source": [
    "#chi2_contingency prints out 4 values - chi2, p-value, degrees of freedom, expected values\n",
    "chi2, p, degf, expected"
   ]
  },
  {
   "cell_type": "code",
   "execution_count": 9,
   "id": "d16cafb4",
   "metadata": {},
   "outputs": [
    {
     "name": "stdout",
     "output_type": "stream",
     "text": [
      "Observed\n"
     ]
    },
    {
     "ename": "NameError",
     "evalue": "name 'observed' is not defined",
     "output_type": "error",
     "traceback": [
      "\u001b[0;31m---------------------------------------------------------------------------\u001b[0m",
      "\u001b[0;31mNameError\u001b[0m                                 Traceback (most recent call last)",
      "Input \u001b[0;32mIn [9]\u001b[0m, in \u001b[0;36m<cell line: 3>\u001b[0;34m()\u001b[0m\n\u001b[1;32m      1\u001b[0m \u001b[38;5;66;03m#output values\u001b[39;00m\n\u001b[1;32m      2\u001b[0m \u001b[38;5;28mprint\u001b[39m(\u001b[38;5;124m'\u001b[39m\u001b[38;5;124mObserved\u001b[39m\u001b[38;5;124m'\u001b[39m)\n\u001b[0;32m----> 3\u001b[0m \u001b[38;5;28mprint\u001b[39m(\u001b[43mobserved\u001b[49m\u001b[38;5;241m.\u001b[39mvalues)\n\u001b[1;32m      4\u001b[0m \u001b[38;5;28mprint\u001b[39m(\u001b[38;5;124m'\u001b[39m\u001b[38;5;130;01m\\n\u001b[39;00m\u001b[38;5;124mExpected\u001b[39m\u001b[38;5;124m'\u001b[39m)\n\u001b[1;32m      5\u001b[0m \u001b[38;5;28mprint\u001b[39m(expected\u001b[38;5;241m.\u001b[39mastype(\u001b[38;5;28mint\u001b[39m))\n",
      "\u001b[0;31mNameError\u001b[0m: name 'observed' is not defined"
     ]
    }
   ],
   "source": [
    "#output values\n",
    "print('Observed')\n",
    "print(observed.values)\n",
    "print('\\nExpected')\n",
    "print(expected.astype(int))\n",
    "print('\\n----')\n",
    "print(f'chi^2 = {chi2:.4f}')\n",
    "print(f'p     = {p:.4f}')"
   ]
  },
  {
   "cell_type": "code",
   "execution_count": 10,
   "id": "afe3ff02",
   "metadata": {},
   "outputs": [
    {
     "ename": "NameError",
     "evalue": "name 'p' is not defined",
     "output_type": "error",
     "traceback": [
      "\u001b[0;31m---------------------------------------------------------------------------\u001b[0m",
      "\u001b[0;31mNameError\u001b[0m                                 Traceback (most recent call last)",
      "Input \u001b[0;32mIn [10]\u001b[0m, in \u001b[0;36m<cell line: 1>\u001b[0;34m()\u001b[0m\n\u001b[0;32m----> 1\u001b[0m \u001b[38;5;28;01mif\u001b[39;00m \u001b[43mp\u001b[49m \u001b[38;5;241m<\u001b[39m alpha:\n\u001b[1;32m      2\u001b[0m     \u001b[38;5;28mprint\u001b[39m(\u001b[38;5;124m'\u001b[39m\u001b[38;5;124mWe reject the null\u001b[39m\u001b[38;5;124m'\u001b[39m)\n\u001b[1;32m      3\u001b[0m \u001b[38;5;28;01melse\u001b[39;00m:\n",
      "\u001b[0;31mNameError\u001b[0m: name 'p' is not defined"
     ]
    }
   ],
   "source": [
    "if p < alpha:\n",
    "    print('We reject the null')\n",
    "else:\n",
    "    print(\"we fail to reject the null\")"
   ]
  },
  {
   "cell_type": "markdown",
   "id": "2ade4324",
   "metadata": {},
   "source": [
    "> a low chi^2 value typically leads to a high p-value"
   ]
  },
  {
   "cell_type": "markdown",
   "id": "14e3b481",
   "metadata": {},
   "source": [
    "## Example 2 - Attrition Data"
   ]
  },
  {
   "cell_type": "code",
   "execution_count": 137,
   "id": "1231e494",
   "metadata": {},
   "outputs": [],
   "source": [
    "#get data\n",
    "df = pd.read_csv(\"https://gist.githubusercontent.com/ryanorsinger/6ba2dd985c9aa92f5598fc0f7c359f6a/raw/b20a508cee46e6ac69eb1e228b167d6f42d665d8/attrition.csv\")"
   ]
  },
  {
   "cell_type": "code",
   "execution_count": 11,
   "id": "fc93ee0c",
   "metadata": {},
   "outputs": [],
   "source": [
    "#always look at your data!!\n"
   ]
  },
  {
   "cell_type": "markdown",
   "id": "333315b8",
   "metadata": {},
   "source": [
    "### What could be categorical data???"
   ]
  },
  {
   "cell_type": "markdown",
   "id": "afe2e478",
   "metadata": {},
   "source": [
    "Let's guess by looking at how many different values each columm has"
   ]
  },
  {
   "cell_type": "code",
   "execution_count": 12,
   "id": "a6bfbf68",
   "metadata": {},
   "outputs": [],
   "source": [
    "#.unique counts the number of unique values in each column\n"
   ]
  },
  {
   "cell_type": "markdown",
   "id": "09bde2cf",
   "metadata": {},
   "source": [
    "## Ex. Is Attrition independent from Business Travel amount?"
   ]
  },
  {
   "cell_type": "markdown",
   "id": "7f8f85d7",
   "metadata": {},
   "source": [
    "### 1. Form hypothesis"
   ]
  },
  {
   "cell_type": "markdown",
   "id": "7c72e800",
   "metadata": {},
   "source": [
    "$H_0$: Attrition and Business travel have no association (They are independent)\n",
    "\n",
    "$H_a$: Attrition and Business travel are associated (they are dependent)"
   ]
  },
  {
   "cell_type": "markdown",
   "id": "b0572c7a",
   "metadata": {},
   "source": [
    "### 2. Make contigency table"
   ]
  },
  {
   "cell_type": "markdown",
   "id": "b5970e9f",
   "metadata": {},
   "source": [
    "Let's scope out our columns and see what categories we have"
   ]
  },
  {
   "cell_type": "code",
   "execution_count": 13,
   "id": "bf23efbe",
   "metadata": {},
   "outputs": [],
   "source": [
    "#get unique values and counts from Attrition\n"
   ]
  },
  {
   "cell_type": "code",
   "execution_count": 14,
   "id": "5099f7aa",
   "metadata": {},
   "outputs": [],
   "source": [
    "#get unique values and counts from BusineesTravel\n"
   ]
  },
  {
   "cell_type": "code",
   "execution_count": 15,
   "id": "550aa107",
   "metadata": {},
   "outputs": [],
   "source": [
    "#make contigency table\n"
   ]
  },
  {
   "cell_type": "markdown",
   "id": "37b4ee23",
   "metadata": {},
   "source": [
    "### 3. Use stats.chi2_contingency"
   ]
  },
  {
   "cell_type": "code",
   "execution_count": 16,
   "id": "d0787015",
   "metadata": {},
   "outputs": [
    {
     "ename": "NameError",
     "evalue": "name 'chi2' is not defined",
     "output_type": "error",
     "traceback": [
      "\u001b[0;31m---------------------------------------------------------------------------\u001b[0m",
      "\u001b[0;31mNameError\u001b[0m                                 Traceback (most recent call last)",
      "Input \u001b[0;32mIn [16]\u001b[0m, in \u001b[0;36m<cell line: 2>\u001b[0;34m()\u001b[0m\n\u001b[1;32m      1\u001b[0m \u001b[38;5;66;03m#calculate chi2 values\u001b[39;00m\n\u001b[0;32m----> 2\u001b[0m \u001b[43mchi2\u001b[49m, p, degf, expected\n",
      "\u001b[0;31mNameError\u001b[0m: name 'chi2' is not defined"
     ]
    }
   ],
   "source": [
    "#calculate chi2 values\n",
    "chi2, p, degf, expected"
   ]
  },
  {
   "cell_type": "code",
   "execution_count": 17,
   "id": "a6c056a3",
   "metadata": {},
   "outputs": [
    {
     "name": "stdout",
     "output_type": "stream",
     "text": [
      "Observed\n"
     ]
    },
    {
     "ename": "NameError",
     "evalue": "name 'observed' is not defined",
     "output_type": "error",
     "traceback": [
      "\u001b[0;31m---------------------------------------------------------------------------\u001b[0m",
      "\u001b[0;31mNameError\u001b[0m                                 Traceback (most recent call last)",
      "Input \u001b[0;32mIn [17]\u001b[0m, in \u001b[0;36m<cell line: 2>\u001b[0;34m()\u001b[0m\n\u001b[1;32m      1\u001b[0m \u001b[38;5;28mprint\u001b[39m(\u001b[38;5;124m'\u001b[39m\u001b[38;5;124mObserved\u001b[39m\u001b[38;5;124m'\u001b[39m)\n\u001b[0;32m----> 2\u001b[0m \u001b[38;5;28mprint\u001b[39m(\u001b[43mobserved\u001b[49m\u001b[38;5;241m.\u001b[39mvalues)\n\u001b[1;32m      3\u001b[0m \u001b[38;5;28mprint\u001b[39m(\u001b[38;5;124m'\u001b[39m\u001b[38;5;130;01m\\n\u001b[39;00m\u001b[38;5;124mExpected\u001b[39m\u001b[38;5;124m'\u001b[39m)\n\u001b[1;32m      4\u001b[0m \u001b[38;5;28mprint\u001b[39m(expected\u001b[38;5;241m.\u001b[39mastype(\u001b[38;5;28mint\u001b[39m))\n",
      "\u001b[0;31mNameError\u001b[0m: name 'observed' is not defined"
     ]
    }
   ],
   "source": [
    "print('Observed')\n",
    "print(observed.values)\n",
    "print('\\nExpected')\n",
    "print(expected.astype(int))\n",
    "print('\\n----')\n",
    "print(f'chi^2 = {chi2:.4f}')\n",
    "print(f'p     = {p:.4f}')"
   ]
  },
  {
   "cell_type": "markdown",
   "id": "1d94d215",
   "metadata": {},
   "source": [
    "> typically a high chi^2 value leads to a low p-value, depends on degrees of freedom"
   ]
  },
  {
   "cell_type": "code",
   "execution_count": 18,
   "id": "750bb384",
   "metadata": {},
   "outputs": [
    {
     "ename": "NameError",
     "evalue": "name 'p' is not defined",
     "output_type": "error",
     "traceback": [
      "\u001b[0;31m---------------------------------------------------------------------------\u001b[0m",
      "\u001b[0;31mNameError\u001b[0m                                 Traceback (most recent call last)",
      "Input \u001b[0;32mIn [18]\u001b[0m, in \u001b[0;36m<cell line: 1>\u001b[0;34m()\u001b[0m\n\u001b[0;32m----> 1\u001b[0m \u001b[38;5;28;01mif\u001b[39;00m \u001b[43mp\u001b[49m \u001b[38;5;241m<\u001b[39m alpha:\n\u001b[1;32m      2\u001b[0m     \u001b[38;5;28mprint\u001b[39m(\u001b[38;5;124m'\u001b[39m\u001b[38;5;124mWe reject the null\u001b[39m\u001b[38;5;124m'\u001b[39m)\n\u001b[1;32m      3\u001b[0m \u001b[38;5;28;01melse\u001b[39;00m:\n",
      "\u001b[0;31mNameError\u001b[0m: name 'p' is not defined"
     ]
    }
   ],
   "source": [
    "if p < alpha:\n",
    "    print('We reject the null')\n",
    "else:\n",
    "    print(\"we fail to reject the null\")"
   ]
  },
  {
   "cell_type": "markdown",
   "id": "1450e956",
   "metadata": {},
   "source": [
    "## Mini Exercise:\n",
    "### Is Attrition independent from Department?"
   ]
  },
  {
   "cell_type": "markdown",
   "id": "e5876f30",
   "metadata": {},
   "source": [
    "### 1. Form hypothesis"
   ]
  },
  {
   "cell_type": "markdown",
   "id": "3e6b2566",
   "metadata": {},
   "source": [
    "- $H_0$: There is no association between Attrition and Department (They are independent)\n",
    "- $H_a$: There is an association between Attrition and Department (They are not independent)"
   ]
  },
  {
   "cell_type": "markdown",
   "id": "93fd82bc",
   "metadata": {},
   "source": [
    "### 2. Make contigency table"
   ]
  },
  {
   "cell_type": "code",
   "execution_count": 19,
   "id": "b29bef10",
   "metadata": {},
   "outputs": [],
   "source": [
    "# how many categories we have in 'Department' column? (hint: value_counts())\n"
   ]
  },
  {
   "cell_type": "code",
   "execution_count": 20,
   "id": "1cdcb02a",
   "metadata": {},
   "outputs": [],
   "source": [
    "# crosstab for observed values between Attrition and Depts\n"
   ]
  },
  {
   "cell_type": "markdown",
   "id": "e09f6790",
   "metadata": {},
   "source": [
    "### 3. Use stats.chi2_contingency"
   ]
  },
  {
   "cell_type": "code",
   "execution_count": 21,
   "id": "1ad07c23",
   "metadata": {},
   "outputs": [],
   "source": [
    "# use stats.chi2_contingency test \n"
   ]
  },
  {
   "cell_type": "code",
   "execution_count": 22,
   "id": "b90ae188",
   "metadata": {},
   "outputs": [
    {
     "name": "stdout",
     "output_type": "stream",
     "text": [
      "Observed\n"
     ]
    },
    {
     "ename": "NameError",
     "evalue": "name 'observed' is not defined",
     "output_type": "error",
     "traceback": [
      "\u001b[0;31m---------------------------------------------------------------------------\u001b[0m",
      "\u001b[0;31mNameError\u001b[0m                                 Traceback (most recent call last)",
      "Input \u001b[0;32mIn [22]\u001b[0m, in \u001b[0;36m<cell line: 3>\u001b[0;34m()\u001b[0m\n\u001b[1;32m      1\u001b[0m \u001b[38;5;66;03m#output values\u001b[39;00m\n\u001b[1;32m      2\u001b[0m \u001b[38;5;28mprint\u001b[39m(\u001b[38;5;124m'\u001b[39m\u001b[38;5;124mObserved\u001b[39m\u001b[38;5;124m'\u001b[39m)\n\u001b[0;32m----> 3\u001b[0m \u001b[38;5;28mprint\u001b[39m(\u001b[43mobserved\u001b[49m\u001b[38;5;241m.\u001b[39mvalues)\n\u001b[1;32m      4\u001b[0m \u001b[38;5;28mprint\u001b[39m(\u001b[38;5;124m'\u001b[39m\u001b[38;5;130;01m\\n\u001b[39;00m\u001b[38;5;124mExpected\u001b[39m\u001b[38;5;124m'\u001b[39m)\n\u001b[1;32m      5\u001b[0m \u001b[38;5;28mprint\u001b[39m(expected\u001b[38;5;241m.\u001b[39mastype(\u001b[38;5;28mint\u001b[39m))\n",
      "\u001b[0;31mNameError\u001b[0m: name 'observed' is not defined"
     ]
    }
   ],
   "source": [
    "#output values\n",
    "print('Observed')\n",
    "print(observed.values)\n",
    "print('\\nExpected')\n",
    "print(expected.astype(int))\n",
    "print('\\n----')\n",
    "print(f'chi^2 = {chi2:.4f}')\n",
    "print(f'p     = {p:.4f}')"
   ]
  },
  {
   "cell_type": "code",
   "execution_count": 23,
   "id": "54c4e1b8",
   "metadata": {},
   "outputs": [
    {
     "ename": "NameError",
     "evalue": "name 'p' is not defined",
     "output_type": "error",
     "traceback": [
      "\u001b[0;31m---------------------------------------------------------------------------\u001b[0m",
      "\u001b[0;31mNameError\u001b[0m                                 Traceback (most recent call last)",
      "Input \u001b[0;32mIn [23]\u001b[0m, in \u001b[0;36m<cell line: 1>\u001b[0;34m()\u001b[0m\n\u001b[0;32m----> 1\u001b[0m \u001b[38;5;28;01mif\u001b[39;00m \u001b[43mp\u001b[49m \u001b[38;5;241m<\u001b[39m alpha:\n\u001b[1;32m      2\u001b[0m     \u001b[38;5;28mprint\u001b[39m(\u001b[38;5;124m\"\u001b[39m\u001b[38;5;124mWe reject the hypothesis\u001b[39m\u001b[38;5;124m\"\u001b[39m)\n\u001b[1;32m      3\u001b[0m \u001b[38;5;28;01melse\u001b[39;00m:\n",
      "\u001b[0;31mNameError\u001b[0m: name 'p' is not defined"
     ]
    }
   ],
   "source": [
    "if p < alpha:\n",
    "    print(\"We reject the hypothesis\")\n",
    "else:\n",
    "    print(\"We fail to reject the null hypothesis\")"
   ]
  },
  {
   "cell_type": "markdown",
   "id": "627e8980",
   "metadata": {},
   "source": [
    "## Correlation Extra FYI"
   ]
  },
  {
   "cell_type": "markdown",
   "id": "3a8f852f",
   "metadata": {},
   "source": [
    "> Expected values all need to be greater than 5, we normally don't run into this issue\n",
    "\n",
    "> If not greater than 5, use fisher's exact test"
   ]
  },
  {
   "cell_type": "code",
   "execution_count": null,
   "id": "7b07c34d",
   "metadata": {},
   "outputs": [],
   "source": []
  }
 ],
 "metadata": {
  "kernelspec": {
   "display_name": "Python 3 (ipykernel)",
   "language": "python",
   "name": "python3"
  },
  "language_info": {
   "codemirror_mode": {
    "name": "ipython",
    "version": 3
   },
   "file_extension": ".py",
   "mimetype": "text/x-python",
   "name": "python",
   "nbconvert_exporter": "python",
   "pygments_lexer": "ipython3",
   "version": "3.9.12"
  }
 },
 "nbformat": 4,
 "nbformat_minor": 5
}
