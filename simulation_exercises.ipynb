{
 "cells": [
  {
   "cell_type": "code",
   "execution_count": 188,
   "id": "d04e92ca",
   "metadata": {},
   "outputs": [],
   "source": [
    "import pandas as pd\n",
    "import numpy as np\n",
    "\n",
    "import matplotlib.pyplot as plt"
   ]
  },
  {
   "cell_type": "code",
   "execution_count": 186,
   "id": "0f5208f0",
   "metadata": {},
   "outputs": [],
   "source": [
    "n_simulations = 100_000"
   ]
  },
  {
   "cell_type": "markdown",
   "id": "2b307c99",
   "metadata": {},
   "source": [
    "### How likely is it that you roll doubles when rolling two dice?"
   ]
  },
  {
   "cell_type": "code",
   "execution_count": 187,
   "id": "bfd7a8dc",
   "metadata": {},
   "outputs": [],
   "source": [
    "outcomes = [1,2,3,4,5,6]\n",
    "n_dice = 2"
   ]
  },
  {
   "cell_type": "code",
   "execution_count": 192,
   "id": "65c05c19",
   "metadata": {},
   "outputs": [
    {
     "data": {
      "text/plain": [
       "array([[3, 5],\n",
       "       [5, 6],\n",
       "       [6, 1],\n",
       "       ...,\n",
       "       [3, 3],\n",
       "       [5, 4],\n",
       "       [1, 1]])"
      ]
     },
     "execution_count": 192,
     "metadata": {},
     "output_type": "execute_result"
    }
   ],
   "source": [
    "rolls = np.random.choice(outcomes, size=(n_simulations, n_dice))\n",
    "rolls"
   ]
  },
  {
   "cell_type": "code",
   "execution_count": 194,
   "id": "f86b4fbd",
   "metadata": {},
   "outputs": [
    {
     "data": {
      "text/html": [
       "<div>\n",
       "<style scoped>\n",
       "    .dataframe tbody tr th:only-of-type {\n",
       "        vertical-align: middle;\n",
       "    }\n",
       "\n",
       "    .dataframe tbody tr th {\n",
       "        vertical-align: top;\n",
       "    }\n",
       "\n",
       "    .dataframe thead th {\n",
       "        text-align: right;\n",
       "    }\n",
       "</style>\n",
       "<table border=\"1\" class=\"dataframe\">\n",
       "  <thead>\n",
       "    <tr style=\"text-align: right;\">\n",
       "      <th></th>\n",
       "      <th>0</th>\n",
       "      <th>1</th>\n",
       "    </tr>\n",
       "  </thead>\n",
       "  <tbody>\n",
       "    <tr>\n",
       "      <th>0</th>\n",
       "      <td>3</td>\n",
       "      <td>5</td>\n",
       "    </tr>\n",
       "    <tr>\n",
       "      <th>1</th>\n",
       "      <td>5</td>\n",
       "      <td>6</td>\n",
       "    </tr>\n",
       "    <tr>\n",
       "      <th>2</th>\n",
       "      <td>6</td>\n",
       "      <td>1</td>\n",
       "    </tr>\n",
       "    <tr>\n",
       "      <th>3</th>\n",
       "      <td>2</td>\n",
       "      <td>3</td>\n",
       "    </tr>\n",
       "    <tr>\n",
       "      <th>4</th>\n",
       "      <td>2</td>\n",
       "      <td>4</td>\n",
       "    </tr>\n",
       "    <tr>\n",
       "      <th>...</th>\n",
       "      <td>...</td>\n",
       "      <td>...</td>\n",
       "    </tr>\n",
       "    <tr>\n",
       "      <th>99995</th>\n",
       "      <td>4</td>\n",
       "      <td>2</td>\n",
       "    </tr>\n",
       "    <tr>\n",
       "      <th>99996</th>\n",
       "      <td>5</td>\n",
       "      <td>3</td>\n",
       "    </tr>\n",
       "    <tr>\n",
       "      <th>99997</th>\n",
       "      <td>3</td>\n",
       "      <td>3</td>\n",
       "    </tr>\n",
       "    <tr>\n",
       "      <th>99998</th>\n",
       "      <td>5</td>\n",
       "      <td>4</td>\n",
       "    </tr>\n",
       "    <tr>\n",
       "      <th>99999</th>\n",
       "      <td>1</td>\n",
       "      <td>1</td>\n",
       "    </tr>\n",
       "  </tbody>\n",
       "</table>\n",
       "<p>100000 rows × 2 columns</p>\n",
       "</div>"
      ],
      "text/plain": [
       "       0  1\n",
       "0      3  5\n",
       "1      5  6\n",
       "2      6  1\n",
       "3      2  3\n",
       "4      2  4\n",
       "...   .. ..\n",
       "99995  4  2\n",
       "99996  5  3\n",
       "99997  3  3\n",
       "99998  5  4\n",
       "99999  1  1\n",
       "\n",
       "[100000 rows x 2 columns]"
      ]
     },
     "execution_count": 194,
     "metadata": {},
     "output_type": "execute_result"
    }
   ],
   "source": [
    "rolls =pd.DataFrame(rolls)\n",
    "rolls"
   ]
  },
  {
   "cell_type": "code",
   "execution_count": 199,
   "id": "ed3e0e85",
   "metadata": {},
   "outputs": [
    {
     "data": {
      "text/plain": [
       "0.16737"
      ]
     },
     "execution_count": 199,
     "metadata": {},
     "output_type": "execute_result"
    }
   ],
   "source": [
    "(rolls[0] == rolls[1]).mean()"
   ]
  },
  {
   "cell_type": "code",
   "execution_count": 11,
   "id": "e6c13e98",
   "metadata": {},
   "outputs": [],
   "source": [
    "# answer: ~0.16"
   ]
  },
  {
   "cell_type": "markdown",
   "id": "f1789448",
   "metadata": {},
   "source": [
    "### If you flip 8 coins, what is the probability of getting exactly 3 heads? "
   ]
  },
  {
   "cell_type": "code",
   "execution_count": 200,
   "id": "6f065ba2",
   "metadata": {},
   "outputs": [],
   "source": [
    "outcomes = ['H','T']\n",
    "n_coins = 8"
   ]
  },
  {
   "cell_type": "code",
   "execution_count": 202,
   "id": "3311819f",
   "metadata": {},
   "outputs": [
    {
     "data": {
      "text/plain": [
       "array([['H', 'T', 'T', ..., 'H', 'H', 'H'],\n",
       "       ['H', 'H', 'H', ..., 'T', 'T', 'H'],\n",
       "       ['H', 'T', 'T', ..., 'H', 'H', 'T'],\n",
       "       ...,\n",
       "       ['H', 'T', 'T', ..., 'H', 'H', 'T'],\n",
       "       ['T', 'T', 'H', ..., 'T', 'T', 'H'],\n",
       "       ['T', 'T', 'H', ..., 'H', 'T', 'H']], dtype='<U1')"
      ]
     },
     "execution_count": 202,
     "metadata": {},
     "output_type": "execute_result"
    }
   ],
   "source": [
    "coinflips = np.random.choice(outcomes, size=(n_simulations, n_coins))\n",
    "coinflips"
   ]
  },
  {
   "cell_type": "code",
   "execution_count": 207,
   "id": "db32da9b",
   "metadata": {},
   "outputs": [
    {
     "data": {
      "text/plain": [
       "array([4, 5, 5, ..., 4, 3, 4])"
      ]
     },
     "execution_count": 207,
     "metadata": {},
     "output_type": "execute_result"
    }
   ],
   "source": [
    "flips_by_sim = (coinflips == 'H').sum(axis=1)\n",
    "flips_by_sim"
   ]
  },
  {
   "cell_type": "code",
   "execution_count": 210,
   "id": "709578a9",
   "metadata": {},
   "outputs": [
    {
     "data": {
      "text/plain": [
       "0.21676"
      ]
     },
     "execution_count": 210,
     "metadata": {},
     "output_type": "execute_result"
    }
   ],
   "source": [
    "(flips_by_sim == 3).mean()"
   ]
  },
  {
   "cell_type": "code",
   "execution_count": 211,
   "id": "6c087157",
   "metadata": {},
   "outputs": [],
   "source": [
    "# answer: ~0.22"
   ]
  },
  {
   "cell_type": "markdown",
   "id": "f4eeb005",
   "metadata": {},
   "source": [
    "### What is the probability of getting more than 3 heads?"
   ]
  },
  {
   "cell_type": "code",
   "execution_count": 212,
   "id": "49bb0da6",
   "metadata": {},
   "outputs": [
    {
     "data": {
      "text/plain": [
       "0.63702"
      ]
     },
     "execution_count": 212,
     "metadata": {},
     "output_type": "execute_result"
    }
   ],
   "source": [
    "outcomes = ['H','T']\n",
    "n_coins = 8\n",
    "\n",
    "coinflips = np.random.choice(outcomes, size=(n_simulations, n_coins))\n",
    "flips_by_sim = (coinflips == 'H').sum(axis=1)\n",
    "(flips_by_sim > 3).mean()"
   ]
  },
  {
   "cell_type": "code",
   "execution_count": 213,
   "id": "9fb68b63",
   "metadata": {},
   "outputs": [],
   "source": [
    "# answer: ~0.64"
   ]
  },
  {
   "cell_type": "markdown",
   "id": "a45a467d",
   "metadata": {},
   "source": [
    "### There are approximitely 3 web development cohorts for every 1 data science cohort at Codeup. Assuming that Codeup randomly selects an alumni to put on a billboard, what are the odds that the two billboards I drive past both have data science students on them?"
   ]
  },
  {
   "cell_type": "code",
   "execution_count": 214,
   "id": "eb77bcfd",
   "metadata": {},
   "outputs": [],
   "source": [
    "outcomes = ['wd', 'wd', 'wd', 'ds']\n",
    "n_billboards = 2\n",
    "\n",
    "# billboards = np.random.choice(outcomes, size=(n_simulations, n_billboards))\n",
    "# billboards"
   ]
  },
  {
   "cell_type": "code",
   "execution_count": 227,
   "id": "26e78a8c",
   "metadata": {},
   "outputs": [
    {
     "data": {
      "text/plain": [
       "array([['ds', 'ds'],\n",
       "       ['wd', 'wd'],\n",
       "       ['wd', 'wd'],\n",
       "       ...,\n",
       "       ['wd', 'wd'],\n",
       "       ['wd', 'wd'],\n",
       "       ['wd', 'wd']], dtype='<U2')"
      ]
     },
     "execution_count": 227,
     "metadata": {},
     "output_type": "execute_result"
    }
   ],
   "source": [
    "outcomes = ['wd','ds']\n",
    "\n",
    "billboards = np.random.choice(outcomes, size=(n_simulations, n_billboards), \n",
    "                p=[0.75, 0.25] )\n",
    "billboards"
   ]
  },
  {
   "cell_type": "code",
   "execution_count": 228,
   "id": "bb605e47",
   "metadata": {},
   "outputs": [
    {
     "data": {
      "text/plain": [
       "array([2, 0, 0, ..., 0, 0, 0])"
      ]
     },
     "execution_count": 228,
     "metadata": {},
     "output_type": "execute_result"
    }
   ],
   "source": [
    "(billboards == 'ds').sum(axis=1)"
   ]
  },
  {
   "cell_type": "code",
   "execution_count": 229,
   "id": "16e727ed",
   "metadata": {},
   "outputs": [
    {
     "data": {
      "text/plain": [
       "0.0623"
      ]
     },
     "execution_count": 229,
     "metadata": {},
     "output_type": "execute_result"
    }
   ],
   "source": [
    "((billboards == 'ds').sum(axis=1) == 2).mean()"
   ]
  },
  {
   "cell_type": "code",
   "execution_count": 230,
   "id": "472cc6ab",
   "metadata": {},
   "outputs": [],
   "source": [
    "# answer ~0.06"
   ]
  },
  {
   "cell_type": "markdown",
   "id": "5b60b91c",
   "metadata": {},
   "source": [
    "### Codeup students buy, on average, 3 poptart packages with a standard deviation of 1.5 a day from the snack vending machine. If on monday the machine is restocked with 17 poptart packages, how likely is it that I will be able to buy some poptarts on Friday afternoon? (Remember, if you have mean and standard deviation, use the np.random.normal) You'll need to make a judgement call on how to handle some of your values"
   ]
  },
  {
   "cell_type": "code",
   "execution_count": 231,
   "id": "c91f4a0e",
   "metadata": {},
   "outputs": [],
   "source": [
    "mean = 3 \n",
    "sd = 1.5\n",
    "\n",
    "n_days = 5"
   ]
  },
  {
   "cell_type": "code",
   "execution_count": 236,
   "id": "c65f753c",
   "metadata": {},
   "outputs": [
    {
     "data": {
      "text/plain": [
       "array([[ 5.28644864,  2.34286252,  3.88858775,  2.89355051,  3.73476916],\n",
       "       [ 3.25851922,  4.98912721,  3.10623076,  3.26543655,  1.47142155],\n",
       "       [ 6.25478857,  0.94324798,  1.9270972 ,  3.37648979,  2.04785375],\n",
       "       ...,\n",
       "       [ 1.98507894,  3.11740855,  1.53918779,  5.10255448, -0.51770085],\n",
       "       [ 2.7153372 ,  1.39518863,  2.13539662,  1.77375428,  2.75231773],\n",
       "       [ 0.42870835,  3.26742687,  3.33232612,  4.39224438,  3.0542598 ]])"
      ]
     },
     "execution_count": 236,
     "metadata": {},
     "output_type": "execute_result"
    }
   ],
   "source": [
    "poptarts_bought_day = np.random.normal(mean, sd, size=(n_simulations, n_days))\n",
    "poptarts_bought_day"
   ]
  },
  {
   "cell_type": "code",
   "execution_count": 238,
   "id": "7ae7601e",
   "metadata": {},
   "outputs": [
    {
     "data": {
      "text/plain": [
       "array([18.14621858, 16.09073529, 14.54947728, ..., 11.2265289 ,\n",
       "       10.77199447, 14.47496552])"
      ]
     },
     "execution_count": 238,
     "metadata": {},
     "output_type": "execute_result"
    }
   ],
   "source": [
    "poptarts_bought_per_week = poptarts_bought_day.sum(axis=1)\n",
    "poptarts_bought_per_week"
   ]
  },
  {
   "cell_type": "code",
   "execution_count": 252,
   "id": "962f5a93",
   "metadata": {},
   "outputs": [
    {
     "data": {
      "text/plain": [
       "1"
      ]
     },
     "execution_count": 252,
     "metadata": {},
     "output_type": "execute_result"
    }
   ],
   "source": [
    "(poptarts_bought_per_week < 0).sum()"
   ]
  },
  {
   "cell_type": "code",
   "execution_count": 253,
   "id": "125e93aa",
   "metadata": {},
   "outputs": [
    {
     "data": {
      "text/plain": [
       "0.72411"
      ]
     },
     "execution_count": 253,
     "metadata": {},
     "output_type": "execute_result"
    }
   ],
   "source": [
    "(poptarts_bought_per_week < 17).mean()"
   ]
  },
  {
   "cell_type": "code",
   "execution_count": 254,
   "id": "3177973c",
   "metadata": {},
   "outputs": [],
   "source": [
    "# answer: ~0.72 or ~0.62 ?????"
   ]
  },
  {
   "cell_type": "markdown",
   "id": "9158589f",
   "metadata": {},
   "source": [
    "### Compare Heights\n",
    "- Men have an average height of 178 cm and standard deviation of 8cm.\n",
    "- Women have a mean of 170, sd = 6cm.\n",
    "- Since you have means and standard deviations, you can use np.random.normal to generate observations.\n",
    "- If a man and woman are chosen at random, what is the likelihood the woman is taller than the man?"
   ]
  },
  {
   "cell_type": "code",
   "execution_count": 258,
   "id": "3f100570",
   "metadata": {},
   "outputs": [],
   "source": [
    "men_mean = 178\n",
    "men_sd = 8\n",
    "\n",
    "women_mean = 170\n",
    "women_sd = 6"
   ]
  },
  {
   "cell_type": "code",
   "execution_count": 262,
   "id": "66345921",
   "metadata": {},
   "outputs": [
    {
     "data": {
      "text/plain": [
       "array([173.37683976, 180.76473978, 179.96409798, ..., 173.14241134,\n",
       "       181.12998372, 172.23351088])"
      ]
     },
     "execution_count": 262,
     "metadata": {},
     "output_type": "execute_result"
    }
   ],
   "source": [
    "men_height =  np.random.normal(men_mean, men_sd, n_simulations)\n",
    "men_height"
   ]
  },
  {
   "cell_type": "code",
   "execution_count": 264,
   "id": "02852690",
   "metadata": {},
   "outputs": [
    {
     "data": {
      "text/plain": [
       "array([167.86744029, 169.23649381, 176.92246148, ..., 166.43261188,\n",
       "       171.84001332, 168.58669101])"
      ]
     },
     "execution_count": 264,
     "metadata": {},
     "output_type": "execute_result"
    }
   ],
   "source": [
    "women_height = np.random.normal(women_mean, women_sd, n_simulations)\n",
    "women_height"
   ]
  },
  {
   "cell_type": "code",
   "execution_count": 266,
   "id": "2f53a9c3",
   "metadata": {},
   "outputs": [
    {
     "data": {
      "text/plain": [
       "0.21235"
      ]
     },
     "execution_count": 266,
     "metadata": {},
     "output_type": "execute_result"
    }
   ],
   "source": [
    "(women_height > men_height).mean()"
   ]
  },
  {
   "cell_type": "code",
   "execution_count": 267,
   "id": "b96b37b2",
   "metadata": {},
   "outputs": [],
   "source": [
    "# answer ~0.21"
   ]
  },
  {
   "cell_type": "markdown",
   "id": "59c81022",
   "metadata": {},
   "source": [
    "### When installing anaconda on a student's computer, there's a 1 in 250 chance that the download is corrupted and the installation fails. What are the odds that after having 50 students download anaconda, no one has an installation issue? "
   ]
  },
  {
   "cell_type": "code",
   "execution_count": 268,
   "id": "49caa75b",
   "metadata": {},
   "outputs": [],
   "source": [
    "outcomes = ['S', 'F']\n",
    "n_students = 50"
   ]
  },
  {
   "cell_type": "code",
   "execution_count": 272,
   "id": "c40c9f2d",
   "metadata": {},
   "outputs": [
    {
     "data": {
      "text/plain": [
       "array([['S', 'S', 'S', ..., 'S', 'S', 'S'],\n",
       "       ['S', 'S', 'S', ..., 'S', 'S', 'S'],\n",
       "       ['S', 'S', 'S', ..., 'S', 'S', 'S'],\n",
       "       ...,\n",
       "       ['S', 'S', 'S', ..., 'S', 'S', 'S'],\n",
       "       ['S', 'S', 'S', ..., 'S', 'S', 'S'],\n",
       "       ['S', 'S', 'S', ..., 'S', 'S', 'S']], dtype='<U1')"
      ]
     },
     "execution_count": 272,
     "metadata": {},
     "output_type": "execute_result"
    }
   ],
   "source": [
    "downloads = np.random.choice(outcomes, size=(n_simulations, n_students), \n",
    "                p = [249/250, 1/250])\n",
    "downloads"
   ]
  },
  {
   "cell_type": "code",
   "execution_count": 274,
   "id": "4b764ef5",
   "metadata": {},
   "outputs": [
    {
     "data": {
      "text/plain": [
       "array([50, 50, 50, ..., 49, 50, 50])"
      ]
     },
     "execution_count": 274,
     "metadata": {},
     "output_type": "execute_result"
    }
   ],
   "source": [
    "(downloads == 'S').sum(axis=1)"
   ]
  },
  {
   "cell_type": "code",
   "execution_count": 277,
   "id": "55a4be80",
   "metadata": {},
   "outputs": [
    {
     "data": {
      "text/plain": [
       "0.8179"
      ]
     },
     "execution_count": 277,
     "metadata": {},
     "output_type": "execute_result"
    }
   ],
   "source": [
    "((downloads == 'S').sum(axis=1) == 50).mean()"
   ]
  },
  {
   "cell_type": "code",
   "execution_count": 123,
   "id": "d8fd806f",
   "metadata": {},
   "outputs": [],
   "source": [
    "# answer: ~0.82"
   ]
  },
  {
   "cell_type": "markdown",
   "id": "842505fb",
   "metadata": {},
   "source": [
    "### 100 students?"
   ]
  },
  {
   "cell_type": "code",
   "execution_count": 281,
   "id": "0fd7555b",
   "metadata": {},
   "outputs": [
    {
     "data": {
      "text/plain": [
       "0.67063"
      ]
     },
     "execution_count": 281,
     "metadata": {},
     "output_type": "execute_result"
    }
   ],
   "source": [
    "outcomes = ['S', 'F']\n",
    "n_students = 100\n",
    "\n",
    "downloads = np.random.choice(outcomes, size=(n_simulations, n_students), \n",
    "                p = [249/250, 1/250])\n",
    "\n",
    "((downloads == 'S').sum(axis=1) == n_students).mean()"
   ]
  },
  {
   "cell_type": "code",
   "execution_count": 282,
   "id": "4652dd04",
   "metadata": {},
   "outputs": [],
   "source": [
    "# answer: ~0.67"
   ]
  },
  {
   "cell_type": "markdown",
   "id": "884116a8",
   "metadata": {},
   "source": [
    "### What is the probability that we observe an installation issue within the first 150 students that download anaconda?"
   ]
  },
  {
   "cell_type": "code",
   "execution_count": 283,
   "id": "53413bdc",
   "metadata": {},
   "outputs": [
    {
     "data": {
      "text/plain": [
       "0.45189"
      ]
     },
     "execution_count": 283,
     "metadata": {},
     "output_type": "execute_result"
    }
   ],
   "source": [
    "outcomes = ['S', 'F']\n",
    "n_students = 150\n",
    "\n",
    "downloads = np.random.choice(outcomes, size=(n_simulations, n_students), \n",
    "                p = [249/250, 1/250])\n",
    "\n",
    "((downloads == 'S').sum(axis=1) < n_students).mean()"
   ]
  },
  {
   "cell_type": "code",
   "execution_count": 284,
   "id": "21fc8619",
   "metadata": {},
   "outputs": [],
   "source": [
    "# answer: ~0.45"
   ]
  },
  {
   "cell_type": "markdown",
   "id": "80ccc19a",
   "metadata": {},
   "source": [
    "### How likely is it that 450 students all download anaconda without an issue?"
   ]
  },
  {
   "cell_type": "code",
   "execution_count": 285,
   "id": "174d46d7",
   "metadata": {},
   "outputs": [
    {
     "data": {
      "text/plain": [
       "0.1645"
      ]
     },
     "execution_count": 285,
     "metadata": {},
     "output_type": "execute_result"
    }
   ],
   "source": [
    "outcomes = ['S', 'F']\n",
    "n_students = 450\n",
    "\n",
    "downloads = np.random.choice(outcomes, size=(n_simulations, n_students), \n",
    "                p = [249/250, 1/250])\n",
    "\n",
    "((downloads == 'S').sum(axis=1) == n_students).mean()"
   ]
  },
  {
   "cell_type": "code",
   "execution_count": 286,
   "id": "d9184440",
   "metadata": {},
   "outputs": [],
   "source": [
    "# answer: ~0.16"
   ]
  },
  {
   "cell_type": "markdown",
   "id": "9aa89f1d",
   "metadata": {},
   "source": [
    "### There's a 70% chance on any given day that there will be at least one food truck at Travis Park. However, you haven't seen a food truck there in 3 days. How unlikely is this?"
   ]
  },
  {
   "cell_type": "code",
   "execution_count": 290,
   "id": "6057c4c0",
   "metadata": {},
   "outputs": [],
   "source": [
    "p_food_truck = 0.70\n",
    "n_days = 3"
   ]
  },
  {
   "cell_type": "code",
   "execution_count": 295,
   "id": "34b99ae4",
   "metadata": {},
   "outputs": [
    {
     "data": {
      "text/plain": [
       "array([[0.40237801, 0.59427314, 0.30093324],\n",
       "       [0.24774932, 0.12535787, 0.5458306 ],\n",
       "       [0.98137218, 0.66744466, 0.42889375],\n",
       "       ...,\n",
       "       [0.27378455, 0.19047117, 0.34804088],\n",
       "       [0.87253118, 0.79983227, 0.16578583],\n",
       "       [0.50885268, 0.36567926, 0.14260405]])"
      ]
     },
     "execution_count": 295,
     "metadata": {},
     "output_type": "execute_result"
    }
   ],
   "source": [
    "is_food_truck = np.random.random((n_simulations,n_days))\n",
    "is_food_truck"
   ]
  },
  {
   "cell_type": "code",
   "execution_count": 297,
   "id": "9c612e5c",
   "metadata": {},
   "outputs": [
    {
     "data": {
      "text/plain": [
       "array([[ True,  True,  True],\n",
       "       [ True,  True,  True],\n",
       "       [False,  True,  True],\n",
       "       ...,\n",
       "       [ True,  True,  True],\n",
       "       [False, False,  True],\n",
       "       [ True,  True,  True]])"
      ]
     },
     "execution_count": 297,
     "metadata": {},
     "output_type": "execute_result"
    }
   ],
   "source": [
    "yes_food_truck = (is_food_truck < p_food_truck)\n",
    "yes_food_truck"
   ]
  },
  {
   "cell_type": "code",
   "execution_count": 303,
   "id": "cf094bad",
   "metadata": {},
   "outputs": [
    {
     "data": {
      "text/plain": [
       "0.02808"
      ]
     },
     "execution_count": 303,
     "metadata": {},
     "output_type": "execute_result"
    }
   ],
   "source": [
    "(yes_food_truck.sum(axis=1) == 0).mean()"
   ]
  },
  {
   "cell_type": "code",
   "execution_count": 304,
   "id": "91c30f6d",
   "metadata": {},
   "outputs": [],
   "source": [
    "# answer: ~0.02"
   ]
  },
  {
   "cell_type": "markdown",
   "id": "2f5b0872",
   "metadata": {},
   "source": [
    "### How likely is it that a food truck will show up sometime this week?"
   ]
  },
  {
   "cell_type": "code",
   "execution_count": 306,
   "id": "2b9351d0",
   "metadata": {},
   "outputs": [
    {
     "data": {
      "text/plain": [
       "0.99985"
      ]
     },
     "execution_count": 306,
     "metadata": {},
     "output_type": "execute_result"
    }
   ],
   "source": [
    "p_food_truck = 0.70\n",
    "n_days = 7\n",
    "\n",
    "is_food_truck = np.random.random((n_simulations,n_days))\n",
    "yes_food_truck = (is_food_truck < p_food_truck)\n",
    "\n",
    "(yes_food_truck.sum(axis=1) > 0).mean()"
   ]
  },
  {
   "cell_type": "code",
   "execution_count": 307,
   "id": "44b01a85",
   "metadata": {},
   "outputs": [],
   "source": [
    "# answer: ~0.99"
   ]
  },
  {
   "cell_type": "markdown",
   "id": "db28f6b6",
   "metadata": {},
   "source": [
    "### If 23 people are in the same room, what are the odds that two of them share a birthday? "
   ]
  },
  {
   "cell_type": "code",
   "execution_count": 310,
   "id": "d180382b",
   "metadata": {},
   "outputs": [],
   "source": [
    "outcome = range(366)\n",
    "n_people = 23"
   ]
  },
  {
   "cell_type": "code",
   "execution_count": 313,
   "id": "1367c9cb",
   "metadata": {},
   "outputs": [
    {
     "data": {
      "text/plain": [
       "array([[ 13, 124,  66, ...,  60, 335, 197],\n",
       "       [187, 289, 221, ..., 334, 158,  48],\n",
       "       [202, 299,   5, ..., 280, 145, 326],\n",
       "       ...,\n",
       "       [ 75, 218, 156, ..., 360,  69, 261],\n",
       "       [196, 158, 166, ..., 339, 354, 149],\n",
       "       [264, 120, 119, ..., 256, 353, 134]])"
      ]
     },
     "execution_count": 313,
     "metadata": {},
     "output_type": "execute_result"
    }
   ],
   "source": [
    "birthdays = np.random.choice(outcome, size=(n_simulations, n_people))\n",
    "birthdays"
   ]
  },
  {
   "cell_type": "code",
   "execution_count": 315,
   "id": "17414ba4",
   "metadata": {},
   "outputs": [
    {
     "data": {
      "text/html": [
       "<div>\n",
       "<style scoped>\n",
       "    .dataframe tbody tr th:only-of-type {\n",
       "        vertical-align: middle;\n",
       "    }\n",
       "\n",
       "    .dataframe tbody tr th {\n",
       "        vertical-align: top;\n",
       "    }\n",
       "\n",
       "    .dataframe thead th {\n",
       "        text-align: right;\n",
       "    }\n",
       "</style>\n",
       "<table border=\"1\" class=\"dataframe\">\n",
       "  <thead>\n",
       "    <tr style=\"text-align: right;\">\n",
       "      <th></th>\n",
       "      <th>0</th>\n",
       "      <th>1</th>\n",
       "      <th>2</th>\n",
       "      <th>3</th>\n",
       "      <th>4</th>\n",
       "      <th>5</th>\n",
       "      <th>6</th>\n",
       "      <th>7</th>\n",
       "      <th>8</th>\n",
       "      <th>9</th>\n",
       "      <th>...</th>\n",
       "      <th>13</th>\n",
       "      <th>14</th>\n",
       "      <th>15</th>\n",
       "      <th>16</th>\n",
       "      <th>17</th>\n",
       "      <th>18</th>\n",
       "      <th>19</th>\n",
       "      <th>20</th>\n",
       "      <th>21</th>\n",
       "      <th>22</th>\n",
       "    </tr>\n",
       "  </thead>\n",
       "  <tbody>\n",
       "    <tr>\n",
       "      <th>0</th>\n",
       "      <td>13</td>\n",
       "      <td>124</td>\n",
       "      <td>66</td>\n",
       "      <td>214</td>\n",
       "      <td>263</td>\n",
       "      <td>150</td>\n",
       "      <td>102</td>\n",
       "      <td>100</td>\n",
       "      <td>248</td>\n",
       "      <td>245</td>\n",
       "      <td>...</td>\n",
       "      <td>138</td>\n",
       "      <td>230</td>\n",
       "      <td>352</td>\n",
       "      <td>71</td>\n",
       "      <td>3</td>\n",
       "      <td>165</td>\n",
       "      <td>61</td>\n",
       "      <td>60</td>\n",
       "      <td>335</td>\n",
       "      <td>197</td>\n",
       "    </tr>\n",
       "    <tr>\n",
       "      <th>1</th>\n",
       "      <td>187</td>\n",
       "      <td>289</td>\n",
       "      <td>221</td>\n",
       "      <td>311</td>\n",
       "      <td>293</td>\n",
       "      <td>359</td>\n",
       "      <td>12</td>\n",
       "      <td>284</td>\n",
       "      <td>214</td>\n",
       "      <td>327</td>\n",
       "      <td>...</td>\n",
       "      <td>165</td>\n",
       "      <td>168</td>\n",
       "      <td>364</td>\n",
       "      <td>171</td>\n",
       "      <td>298</td>\n",
       "      <td>352</td>\n",
       "      <td>232</td>\n",
       "      <td>334</td>\n",
       "      <td>158</td>\n",
       "      <td>48</td>\n",
       "    </tr>\n",
       "    <tr>\n",
       "      <th>2</th>\n",
       "      <td>202</td>\n",
       "      <td>299</td>\n",
       "      <td>5</td>\n",
       "      <td>123</td>\n",
       "      <td>314</td>\n",
       "      <td>207</td>\n",
       "      <td>310</td>\n",
       "      <td>41</td>\n",
       "      <td>359</td>\n",
       "      <td>303</td>\n",
       "      <td>...</td>\n",
       "      <td>314</td>\n",
       "      <td>88</td>\n",
       "      <td>141</td>\n",
       "      <td>356</td>\n",
       "      <td>68</td>\n",
       "      <td>133</td>\n",
       "      <td>43</td>\n",
       "      <td>280</td>\n",
       "      <td>145</td>\n",
       "      <td>326</td>\n",
       "    </tr>\n",
       "    <tr>\n",
       "      <th>3</th>\n",
       "      <td>238</td>\n",
       "      <td>295</td>\n",
       "      <td>326</td>\n",
       "      <td>45</td>\n",
       "      <td>209</td>\n",
       "      <td>82</td>\n",
       "      <td>204</td>\n",
       "      <td>359</td>\n",
       "      <td>116</td>\n",
       "      <td>289</td>\n",
       "      <td>...</td>\n",
       "      <td>239</td>\n",
       "      <td>23</td>\n",
       "      <td>70</td>\n",
       "      <td>145</td>\n",
       "      <td>189</td>\n",
       "      <td>177</td>\n",
       "      <td>156</td>\n",
       "      <td>323</td>\n",
       "      <td>152</td>\n",
       "      <td>99</td>\n",
       "    </tr>\n",
       "    <tr>\n",
       "      <th>4</th>\n",
       "      <td>34</td>\n",
       "      <td>170</td>\n",
       "      <td>241</td>\n",
       "      <td>17</td>\n",
       "      <td>109</td>\n",
       "      <td>87</td>\n",
       "      <td>50</td>\n",
       "      <td>161</td>\n",
       "      <td>289</td>\n",
       "      <td>292</td>\n",
       "      <td>...</td>\n",
       "      <td>162</td>\n",
       "      <td>310</td>\n",
       "      <td>220</td>\n",
       "      <td>145</td>\n",
       "      <td>236</td>\n",
       "      <td>127</td>\n",
       "      <td>353</td>\n",
       "      <td>228</td>\n",
       "      <td>362</td>\n",
       "      <td>341</td>\n",
       "    </tr>\n",
       "    <tr>\n",
       "      <th>...</th>\n",
       "      <td>...</td>\n",
       "      <td>...</td>\n",
       "      <td>...</td>\n",
       "      <td>...</td>\n",
       "      <td>...</td>\n",
       "      <td>...</td>\n",
       "      <td>...</td>\n",
       "      <td>...</td>\n",
       "      <td>...</td>\n",
       "      <td>...</td>\n",
       "      <td>...</td>\n",
       "      <td>...</td>\n",
       "      <td>...</td>\n",
       "      <td>...</td>\n",
       "      <td>...</td>\n",
       "      <td>...</td>\n",
       "      <td>...</td>\n",
       "      <td>...</td>\n",
       "      <td>...</td>\n",
       "      <td>...</td>\n",
       "      <td>...</td>\n",
       "    </tr>\n",
       "    <tr>\n",
       "      <th>99995</th>\n",
       "      <td>265</td>\n",
       "      <td>185</td>\n",
       "      <td>1</td>\n",
       "      <td>317</td>\n",
       "      <td>290</td>\n",
       "      <td>65</td>\n",
       "      <td>14</td>\n",
       "      <td>308</td>\n",
       "      <td>350</td>\n",
       "      <td>180</td>\n",
       "      <td>...</td>\n",
       "      <td>32</td>\n",
       "      <td>108</td>\n",
       "      <td>82</td>\n",
       "      <td>354</td>\n",
       "      <td>194</td>\n",
       "      <td>308</td>\n",
       "      <td>184</td>\n",
       "      <td>281</td>\n",
       "      <td>82</td>\n",
       "      <td>329</td>\n",
       "    </tr>\n",
       "    <tr>\n",
       "      <th>99996</th>\n",
       "      <td>212</td>\n",
       "      <td>59</td>\n",
       "      <td>26</td>\n",
       "      <td>355</td>\n",
       "      <td>158</td>\n",
       "      <td>62</td>\n",
       "      <td>217</td>\n",
       "      <td>198</td>\n",
       "      <td>285</td>\n",
       "      <td>1</td>\n",
       "      <td>...</td>\n",
       "      <td>363</td>\n",
       "      <td>297</td>\n",
       "      <td>237</td>\n",
       "      <td>315</td>\n",
       "      <td>260</td>\n",
       "      <td>162</td>\n",
       "      <td>62</td>\n",
       "      <td>229</td>\n",
       "      <td>255</td>\n",
       "      <td>182</td>\n",
       "    </tr>\n",
       "    <tr>\n",
       "      <th>99997</th>\n",
       "      <td>75</td>\n",
       "      <td>218</td>\n",
       "      <td>156</td>\n",
       "      <td>345</td>\n",
       "      <td>283</td>\n",
       "      <td>204</td>\n",
       "      <td>19</td>\n",
       "      <td>262</td>\n",
       "      <td>21</td>\n",
       "      <td>83</td>\n",
       "      <td>...</td>\n",
       "      <td>184</td>\n",
       "      <td>103</td>\n",
       "      <td>262</td>\n",
       "      <td>23</td>\n",
       "      <td>327</td>\n",
       "      <td>303</td>\n",
       "      <td>196</td>\n",
       "      <td>360</td>\n",
       "      <td>69</td>\n",
       "      <td>261</td>\n",
       "    </tr>\n",
       "    <tr>\n",
       "      <th>99998</th>\n",
       "      <td>196</td>\n",
       "      <td>158</td>\n",
       "      <td>166</td>\n",
       "      <td>69</td>\n",
       "      <td>295</td>\n",
       "      <td>163</td>\n",
       "      <td>232</td>\n",
       "      <td>175</td>\n",
       "      <td>244</td>\n",
       "      <td>337</td>\n",
       "      <td>...</td>\n",
       "      <td>127</td>\n",
       "      <td>38</td>\n",
       "      <td>46</td>\n",
       "      <td>197</td>\n",
       "      <td>349</td>\n",
       "      <td>30</td>\n",
       "      <td>306</td>\n",
       "      <td>339</td>\n",
       "      <td>354</td>\n",
       "      <td>149</td>\n",
       "    </tr>\n",
       "    <tr>\n",
       "      <th>99999</th>\n",
       "      <td>264</td>\n",
       "      <td>120</td>\n",
       "      <td>119</td>\n",
       "      <td>50</td>\n",
       "      <td>365</td>\n",
       "      <td>141</td>\n",
       "      <td>180</td>\n",
       "      <td>82</td>\n",
       "      <td>240</td>\n",
       "      <td>327</td>\n",
       "      <td>...</td>\n",
       "      <td>41</td>\n",
       "      <td>318</td>\n",
       "      <td>143</td>\n",
       "      <td>286</td>\n",
       "      <td>64</td>\n",
       "      <td>212</td>\n",
       "      <td>121</td>\n",
       "      <td>256</td>\n",
       "      <td>353</td>\n",
       "      <td>134</td>\n",
       "    </tr>\n",
       "  </tbody>\n",
       "</table>\n",
       "<p>100000 rows × 23 columns</p>\n",
       "</div>"
      ],
      "text/plain": [
       "        0    1    2    3    4    5    6    7    8    9   ...   13   14   15  \\\n",
       "0       13  124   66  214  263  150  102  100  248  245  ...  138  230  352   \n",
       "1      187  289  221  311  293  359   12  284  214  327  ...  165  168  364   \n",
       "2      202  299    5  123  314  207  310   41  359  303  ...  314   88  141   \n",
       "3      238  295  326   45  209   82  204  359  116  289  ...  239   23   70   \n",
       "4       34  170  241   17  109   87   50  161  289  292  ...  162  310  220   \n",
       "...    ...  ...  ...  ...  ...  ...  ...  ...  ...  ...  ...  ...  ...  ...   \n",
       "99995  265  185    1  317  290   65   14  308  350  180  ...   32  108   82   \n",
       "99996  212   59   26  355  158   62  217  198  285    1  ...  363  297  237   \n",
       "99997   75  218  156  345  283  204   19  262   21   83  ...  184  103  262   \n",
       "99998  196  158  166   69  295  163  232  175  244  337  ...  127   38   46   \n",
       "99999  264  120  119   50  365  141  180   82  240  327  ...   41  318  143   \n",
       "\n",
       "        16   17   18   19   20   21   22  \n",
       "0       71    3  165   61   60  335  197  \n",
       "1      171  298  352  232  334  158   48  \n",
       "2      356   68  133   43  280  145  326  \n",
       "3      145  189  177  156  323  152   99  \n",
       "4      145  236  127  353  228  362  341  \n",
       "...    ...  ...  ...  ...  ...  ...  ...  \n",
       "99995  354  194  308  184  281   82  329  \n",
       "99996  315  260  162   62  229  255  182  \n",
       "99997   23  327  303  196  360   69  261  \n",
       "99998  197  349   30  306  339  354  149  \n",
       "99999  286   64  212  121  256  353  134  \n",
       "\n",
       "[100000 rows x 23 columns]"
      ]
     },
     "execution_count": 315,
     "metadata": {},
     "output_type": "execute_result"
    }
   ],
   "source": [
    "birthdays = pd.DataFrame(birthdays)\n",
    "birthdays"
   ]
  },
  {
   "cell_type": "code",
   "execution_count": 327,
   "id": "bfd38352",
   "metadata": {},
   "outputs": [
    {
     "data": {
      "text/plain": [
       "0.50699"
      ]
     },
     "execution_count": 327,
     "metadata": {},
     "output_type": "execute_result"
    }
   ],
   "source": [
    "(birthdays.nunique(axis=1) < 23).mean()"
   ]
  },
  {
   "cell_type": "code",
   "execution_count": null,
   "id": "47746bac",
   "metadata": {},
   "outputs": [],
   "source": [
    "# answer: ~0.50"
   ]
  },
  {
   "cell_type": "markdown",
   "id": "3dde56c4",
   "metadata": {},
   "source": [
    "### What if it's 20 people? "
   ]
  },
  {
   "cell_type": "code",
   "execution_count": 328,
   "id": "b2e5585d",
   "metadata": {},
   "outputs": [
    {
     "data": {
      "text/plain": [
       "0.41011"
      ]
     },
     "execution_count": 328,
     "metadata": {},
     "output_type": "execute_result"
    }
   ],
   "source": [
    "outcome = range(366)\n",
    "n_people = 20\n",
    "\n",
    "birthdays = np.random.choice(outcome, size=(n_simulations, n_people))\n",
    "birthdays = pd.DataFrame(birthdays)\n",
    "\n",
    "(birthdays.nunique(axis=1) < n_people).mean()"
   ]
  },
  {
   "cell_type": "code",
   "execution_count": 182,
   "id": "cb7c8e8f",
   "metadata": {},
   "outputs": [],
   "source": [
    "# answer: ~0.41"
   ]
  },
  {
   "cell_type": "markdown",
   "id": "3227029b",
   "metadata": {},
   "source": [
    "### 40?"
   ]
  },
  {
   "cell_type": "code",
   "execution_count": 329,
   "id": "ec97a53b",
   "metadata": {},
   "outputs": [
    {
     "data": {
      "text/plain": [
       "0.89026"
      ]
     },
     "execution_count": 329,
     "metadata": {},
     "output_type": "execute_result"
    }
   ],
   "source": [
    "outcome = range(366)\n",
    "n_people = 40\n",
    "\n",
    "birthdays = np.random.choice(outcome, size=(n_simulations, n_people))\n",
    "birthdays = pd.DataFrame(birthdays)\n",
    "\n",
    "(birthdays.nunique(axis=1) < n_people).mean()"
   ]
  },
  {
   "cell_type": "code",
   "execution_count": null,
   "id": "0dfeb954",
   "metadata": {},
   "outputs": [],
   "source": [
    "# answer: ~0.89"
   ]
  }
 ],
 "metadata": {
  "kernelspec": {
   "display_name": "Python 3 (ipykernel)",
   "language": "python",
   "name": "python3"
  },
  "language_info": {
   "codemirror_mode": {
    "name": "ipython",
    "version": 3
   },
   "file_extension": ".py",
   "mimetype": "text/x-python",
   "name": "python",
   "nbconvert_exporter": "python",
   "pygments_lexer": "ipython3",
   "version": "3.9.12"
  }
 },
 "nbformat": 4,
 "nbformat_minor": 5
}
